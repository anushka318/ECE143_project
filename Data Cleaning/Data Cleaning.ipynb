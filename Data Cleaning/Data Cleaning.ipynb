{
 "cells": [
  {
   "cell_type": "code",
   "execution_count": 8,
   "id": "1e2f56b6-ddb3-45a0-8a9a-5333caf98ddd",
   "metadata": {},
   "outputs": [],
   "source": [
    "import pandas as pd\n",
    "import numpy as np\n",
    "import matplotlib.pyplot as plt\n",
    "import os\n",
    "import seaborn as sns\n",
    "from sklearn.preprocessing import StandardScaler\n",
    "from sklearn.model_selection import train_test_split\n",
    "from sklearn.linear_model import LinearRegression,Ridge,LogisticRegression\n",
    "from sklearn.metrics import r2_score , mean_squared_error ,confusion_matrix,accuracy_score\n",
    "import string as st\n",
    "from sklearn.preprocessing import LabelEncoder\n",
    "from sklearn.decomposition import PCA\n",
    "from sklearn.cluster import KMeans \n",
    "from sklearn.ensemble import RandomForestClassifier\n",
    "from sklearn.linear_model import LogisticRegression\n",
    "import warnings\n",
    "warnings.filterwarnings(\"ignore\")"
   ]
  },
  {
   "cell_type": "code",
   "execution_count": 9,
   "id": "3d519d93-8847-4560-8f3e-e636129bf39f",
   "metadata": {},
   "outputs": [],
   "source": [
    "pd.set_option('display.max_columns',500)\n",
    "pd.set_option('display.max_rows',200)\n",
    "df = pd.read_csv(\"C:/Program Files/R Files/anxiety.csv\", encoding = 'ISO-8859-1')"
   ]
  },
  {
   "cell_type": "code",
   "execution_count": 10,
   "id": "a35bcf51-a8b9-4e47-97fd-dc8057ec48d2",
   "metadata": {},
   "outputs": [
    {
     "data": {
      "text/plain": [
       "0        0\n",
       "1        2\n",
       "2        2\n",
       "3        0\n",
       "4        1\n",
       "        ..\n",
       "13459    0\n",
       "13460    3\n",
       "13461    0\n",
       "13462    2\n",
       "13463    1\n",
       "Name: GAD2, Length: 13464, dtype: int64"
      ]
     },
     "execution_count": 10,
     "metadata": {},
     "output_type": "execute_result"
    }
   ],
   "source": [
    "df.GAD2"
   ]
  },
  {
   "cell_type": "code",
   "execution_count": 11,
   "id": "9095e1a7-a6dc-4303-ba1f-8ada57490251",
   "metadata": {},
   "outputs": [],
   "source": [
    "df.drop(['S. No.' , 'Timestamp'] , axis = 1 , inplace = True)"
   ]
  },
  {
   "cell_type": "code",
   "execution_count": 12,
   "id": "030517ff-6f54-4c5c-9eb6-ad4cedb8bd2f",
   "metadata": {},
   "outputs": [
    {
     "data": {
      "text/plain": [
       "(13464, 53)"
      ]
     },
     "execution_count": 12,
     "metadata": {},
     "output_type": "execute_result"
    }
   ],
   "source": [
    "df.shape"
   ]
  },
  {
   "cell_type": "code",
   "execution_count": 13,
   "id": "c94afb44-a36a-4b35-a023-7e1cbaaeab63",
   "metadata": {},
   "outputs": [
    {
     "data": {
      "text/plain": [
       "Not difficult at all    6218\n",
       "Somewhat difficult      5132\n",
       "Very difficult          1004\n",
       "Extremely difficult      409\n",
       "Name: GADE, dtype: int64"
      ]
     },
     "execution_count": 13,
     "metadata": {},
     "output_type": "execute_result"
    }
   ],
   "source": [
    "df['Hours_streams'] = df['Hours'] + df['streams']\n",
    "df.drop(  ((df[df['Hours_streams'] > 115].index) | (df[df['Hours_streams']==0].index)),\n",
    "                                             axis=0,inplace=True)\n",
    "df.GADE.value_counts()"
   ]
  },
  {
   "cell_type": "code",
   "execution_count": 14,
   "id": "2f748f17-a3ad-474b-99de-aa828be6042a",
   "metadata": {},
   "outputs": [
    {
     "data": {
      "text/plain": [
       "Not difficult at all    6218\n",
       "Somewhat difficult      5780\n",
       "Very difficult          1004\n",
       "Extremely difficult      409\n",
       "Name: GADE, dtype: int64"
      ]
     },
     "execution_count": 14,
     "metadata": {},
     "output_type": "execute_result"
    }
   ],
   "source": [
    "df.GADE.fillna(df.GADE.value_counts().index[1] , inplace=True) #1\n",
    "df.GADE.value_counts()"
   ]
  },
  {
   "cell_type": "code",
   "execution_count": 15,
   "id": "4305153e-1b30-414d-bc4f-ed85870360d1",
   "metadata": {},
   "outputs": [
    {
     "name": "stdout",
     "output_type": "stream",
     "text": [
      "1444\n",
      "1199\n"
     ]
    }
   ],
   "source": [
    "df.streams.fillna(int(df.streams.mean()) , inplace = True)\n",
    "df.Hours.fillna(int(df.Hours.mean()) , inplace = True)\n",
    "df.drop('Hours_streams' , axis = 1 , inplace = True)\n",
    "print(df.League.nunique())\n",
    "df.League = df.League.str.lower().str.strip()\n",
    "print(df.League.nunique())"
   ]
  },
  {
   "cell_type": "code",
   "execution_count": 16,
   "id": "3ebdca07-a946-4ba6-8259-edb40cab68ad",
   "metadata": {},
   "outputs": [
    {
     "data": {
      "text/plain": [
       "207"
      ]
     },
     "execution_count": 16,
     "metadata": {},
     "output_type": "execute_result"
    }
   ],
   "source": [
    "df[\"League\"] =df[\"League\"].str.extract(r'^([a-z]+)')\n",
    "df.League.nunique()"
   ]
  },
  {
   "cell_type": "code",
   "execution_count": 17,
   "id": "7a07c25b-cd96-4f2b-87ea-42fb033bb282",
   "metadata": {},
   "outputs": [
    {
     "data": {
      "text/plain": [
       "array([nan, 'gold', 'none', 'na', 'diamond', 'not', 'bronze', 'silver',\n",
       "       'n', 'unranked', 'bad', 'legendary', 'global', 'potato', 'master',\n",
       "       'silverii', 'platinum', 'masters', 'challenger', 'lvl', 'platin',\n",
       "       'promos', 'top', 'd', 'plat', 'i', 'rank', 'grandmaster',\n",
       "       'platnium', 's', 'haven', 'platinium', 'in', 'gv', 'provisional',\n",
       "       'placements', 'g', 'was', 'the', 'division', 'pplatinum', 'hr',\n",
       "       'only', 'platium', 'legend', 'platine', 'plarinum', 'dmg',\n",
       "       'sliver', 'dont', 'high', 'very', 'starcraft', 'challenjour',\n",
       "       'fusion', 'low', 'unraked', 'havent', 'got', 'golden', 'cs', 'p',\n",
       "       'standard', 'still', 'highest', 'nope', 'dia', 'league', 'nova',\n",
       "       'mge', 'silber', 'siver', 'never', 'b', 'platinun', 'mg',\n",
       "       'supreme', 'for', 'greater', 'wood', 'le', 'no', 'natural', 'aram',\n",
       "       'don', 'currently', 'noone', 'grand', 'hs', 'current', 'last',\n",
       "       'first', 'recently', 'fucking', 'grandmasters', 'golf', 'of',\n",
       "       'glod', 'tier', 'soloq', 'unrranked', 'esl', 'golld', 'double',\n",
       "       'used', 'new', 'lem', 'csgo', 'c', 'platonum', 'eu', 'bronce',\n",
       "       'sil', 'finished', 'what', 'zilean', 'unrank', 'cardboard',\n",
       "       'goled', 'ranked', 'heroic', 'torment', 'lowest', 'lol', 'plata',\n",
       "       'almost', 'platnum', 'season', 'diaomnd', 'german', 'placed', 'un',\n",
       "       'mid', 'uwot', 'spanish', 'around', 'sc', 'germany', 'conqueror',\n",
       "       'charrenjour', 'unrankt', 'im', 'plantinum', 'placement', 'close',\n",
       "       'diamont', 'platinuim', 'hearthstone', 'finishing', 'non', 'coals',\n",
       "       'qualifiying', 'god', 'distinguished', 'doing', 'seaon', 'pre',\n",
       "       'unable', 'legdendary', 'ended', 'unfranked', 'were', 'promotion',\n",
       "       'seeding', 'idk', 'probably', 'ex', 'smfc', 'unplaced',\n",
       "       'gladiator', 'peaked', 'will', 'climbing', 'gm', 'angolan',\n",
       "       'challeneger', 'golderino', 'didnt', 'platinumm', 'provisionals',\n",
       "       'atm', 'unrakned', 'x', 'yes', 'under', 'range', 'formerly',\n",
       "       'having', 'silveriv', 'sem', 'elohell', 'promotions', 'unseeded',\n",
       "       'ugc', 'giii', 'if', 'level', 'lissandra', 'north', 'guardian',\n",
       "       'broze', 'diamomd', 'just', 'platv', 'unfinished', 'euw',\n",
       "       'platina', 'ahgl'], dtype=object)"
      ]
     },
     "execution_count": 17,
     "metadata": {},
     "output_type": "execute_result"
    }
   ],
   "source": [
    "df.League.unique()"
   ]
  },
  {
   "cell_type": "code",
   "execution_count": 18,
   "id": "56343b91-6743-4ee5-8895-4736b75ed552",
   "metadata": {},
   "outputs": [
    {
     "data": {
      "text/plain": [
       "gold             4074\n",
       "platinum         2640\n",
       "silver           2278\n",
       "unranked         1714\n",
       "diamond          1628\n",
       "bronze            552\n",
       "master            163\n",
       "challenger         76\n",
       "rank               28\n",
       "i                  20\n",
       "grandmaster        17\n",
       "currently          11\n",
       "dmg                11\n",
       "mge                 8\n",
       "high                8\n",
       "season              8\n",
       "legendary           8\n",
       "lol                 7\n",
       "league              7\n",
       "still               7\n",
       "in                  7\n",
       "top                 6\n",
       "cs                  6\n",
       "legend              6\n",
       "nova                5\n",
       "supreme             4\n",
       "greater             4\n",
       "last                3\n",
       "csgo                3\n",
       "lem                 3\n",
       "starcraft           3\n",
       "used                2\n",
       "ugc                 2\n",
       "peaked              2\n",
       "sc                  2\n",
       "finished            2\n",
       "level               2\n",
       "mid                 2\n",
       "aram                2\n",
       "eu                  2\n",
       "the                 2\n",
       "for                 2\n",
       "division            2\n",
       "low                 2\n",
       "global              2\n",
       "got                 2\n",
       "natural             1\n",
       "smfc                1\n",
       "ex                  1\n",
       "seeding             1\n",
       "were                1\n",
       "ended               1\n",
       "potato              1\n",
       "unable              1\n",
       "pre                 1\n",
       "seaon               1\n",
       "doing               1\n",
       "distinguished       1\n",
       "god                 1\n",
       "gladiator           1\n",
       "climbing            1\n",
       "will                1\n",
       "sem                 1\n",
       "euw                 1\n",
       "guardian            1\n",
       "north               1\n",
       "lissandra           1\n",
       "bad                 1\n",
       "if                  1\n",
       "having              1\n",
       "coals               1\n",
       "formerly            1\n",
       "range               1\n",
       "under               1\n",
       "yes                 1\n",
       "atm                 1\n",
       "angolan             1\n",
       "qualifiying         1\n",
       "close               1\n",
       "finishing           1\n",
       "zilean              1\n",
       "highest             1\n",
       "hs                  1\n",
       "current             1\n",
       "standard            1\n",
       "first               1\n",
       "recently            1\n",
       "fucking             1\n",
       "tier                1\n",
       "soloq               1\n",
       "esl                 1\n",
       "double              1\n",
       "fusion              1\n",
       "very                1\n",
       "only                1\n",
       "cardboard           1\n",
       "hearthstone         1\n",
       "heroic              1\n",
       "torment             1\n",
       "hr                  1\n",
       "almost              1\n",
       "german              1\n",
       "placed              1\n",
       "un                  1\n",
       "uwot                1\n",
       "spanish             1\n",
       "around              1\n",
       "lvl                 1\n",
       "germany             1\n",
       "conqueror           1\n",
       "im                  1\n",
       "ahgl                1\n",
       "Name: League, dtype: int64"
      ]
     },
     "execution_count": 18,
     "metadata": {},
     "output_type": "execute_result"
    }
   ],
   "source": [
    "df.loc[(df['whyplay']== 'having fun') ,'League'] =df.loc[(df['whyplay']== 'having fun') ,'League'].fillna('unranked')\n",
    "df.League.fillna('gold' , inplace = True)\n",
    "golds = ['g', 'gv', 'golden' ,'glod' ,'golld' ,'golf', 'goled', 'golderino' ,'giii']\n",
    "df['League'] = df.League.replace(golds , 'gold')\n",
    "silvers = [ 'silverii' , 's' , 'sliver' , 'siver' , 'silber' , 'sil' , 'silveriv']\n",
    "df['League'] = df.League.replace(silvers , 'silver')\n",
    "plats = [\n",
    "    'platinium' , 'platnium' , 'platin' ,'pplatinum' ,'plarinum' ,'platium', 'p' ,'platine' ,\n",
    "    'platinun' ,'platonum' ,'platnum', 'plata' ,'plantinum',\n",
    "    'platinuim' ,'platunum', 'plantinum' ,'platunum' ,'platinumm' ,'platv' ,'platina' , 'plat' \n",
    "]\n",
    "df['League'] = df.League.replace(plats , 'platinum')\n",
    "bronzers = ['bronce' , 'b' , 'broze' ,'lowest' , 'wood', 'elohell'] \n",
    "df['League'] = df.League.replace(bronzers , 'bronze')\n",
    "unranked = ['none' ,'na', 'not' ,'n' ,'promos' ,'provisional' ,'placements' , 'dont' , 'was', 'unraked',\n",
    "            'havent', 'never', 'nope', 'no', 'noone', 'don', 'of', 'unrranked', 'new', 'what', 'unrank' ,\n",
    "            'ranked', 'placement', 'unrankt' , 'non', 'unfranked' , 'promotion', 'idk',\n",
    "            'unplaced', 'probably', 'provisionals', 'didnt' ,'unrakned' , 'unfinished' , 'just' , 'x' ,\n",
    "            'promotions' , 'unseeded' , 'haven']\n",
    "df['League'] = df.League.replace(unranked , 'unranked')\n",
    "diamonds =  ['d', 'dia', 'diaomnd', 'diamont','diamomd']\n",
    "df['League'] = df.League.replace(diamonds , 'diamond')\n",
    "gm =  ['grand', 'gm', 'grandmasters']\n",
    "df['League'] = df.League.replace(gm , 'grandmaster')\n",
    "chall =  ['challenjour', 'c', 'charrenjour', 'challeneger']\n",
    "df['League'] = df.League.replace(chall , 'challenger')\n",
    "df['League'] = df.League.replace('mg' , 'mge')\n",
    "df['League'] = df.League.replace('masters' , 'master')\n",
    "df['League'] = df.League.replace( ['le', 'legdendary'] , 'legendary')\n",
    "df.League.value_counts()"
   ]
  },
  {
   "cell_type": "code",
   "execution_count": 19,
   "id": "fac7b993-0587-4a7a-bb1b-bd8790a55483",
   "metadata": {},
   "outputs": [
    {
     "data": {
      "text/plain": [
       "array(['unranked', 'gold', 'diamond', 'bronze', 'silver', 'unspecified',\n",
       "       'legendary', 'master', 'platinum', 'challenger', 'top',\n",
       "       'grandmaster', 'legend', 'dmg', 'league', 'nova', 'mge', 'supreme',\n",
       "       'greater', 'lem'], dtype=object)"
      ]
     },
     "execution_count": 19,
     "metadata": {},
     "output_type": "execute_result"
    }
   ],
   "source": [
    "counts = df['League'].value_counts()\n",
    "df['League'] = df['League'][~df['League'].isin(counts[counts < 3].index)]\n",
    "df['League'] = df.League.replace(['i' , 'currently' , 'high' , 'season' , 'lol','cs' ,\n",
    "                                  'last' ,'csgo','starcraft' ,'geater' , 'in', 'rank' , 'still'] , np.nan)\n",
    "df.League.fillna('unspecified' , inplace=True)\n",
    "df.League.unique()"
   ]
  },
  {
   "cell_type": "code",
   "execution_count": 20,
   "id": "c23d3325-aaf5-4615-a5e4-d247a10e43be",
   "metadata": {},
   "outputs": [
    {
     "data": {
      "text/plain": [
       "1.0    5240\n",
       "2.0    4344\n",
       "3.0    2335\n",
       "4.0    1147\n",
       "5.0     322\n",
       "Name: Narcissism, dtype: int64"
      ]
     },
     "execution_count": 20,
     "metadata": {},
     "output_type": "execute_result"
    }
   ],
   "source": [
    "df['Narcissism'].value_counts()"
   ]
  },
  {
   "cell_type": "code",
   "execution_count": 21,
   "id": "3a2114d1-0c3c-4449-bdbf-45cb8c46d39e",
   "metadata": {},
   "outputs": [
    {
     "data": {
      "text/plain": [
       "278"
      ]
     },
     "execution_count": 21,
     "metadata": {},
     "output_type": "execute_result"
    }
   ],
   "source": [
    "df.drop([\"Birthplace\",\"Birthplace_ISO3\"],axis=1,inplace=True)\n",
    "df['Residence'] = df['Residence'].replace('Unknown',df['Residence'].mode()[0])\n",
    "df['Reference'].fillna('Other',inplace=True)\n",
    "df.drop(df[df['accept'].isnull()].index , axis=0 , inplace=True)\n",
    "df['Residence_ISO3'].fillna('USA',inplace=True) #11063\n",
    "df.loc[11063,'Residence_ISO3'] = 'XXK'\n",
    "col = ['SPIN1','SPIN2','SPIN3','SPIN4','SPIN5','SPIN6','SPIN7','SPIN8','SPIN9',\n",
    "     'SPIN10','SPIN11','SPIN12','SPIN13','SPIN14','SPIN15','SPIN16','SPIN17' ,'SPIN_T']\n",
    "for i in col :\n",
    "    df[i].fillna(df[i].mode()[0], inplace = True)\n",
    "df['Playstyle'] = df['Playstyle'].apply(lambda x: ' '.join(word.strip(st.punctuation) for word in x.split()))\n",
    "df['earnings'] = df['earnings'].apply(lambda x: ' '.join(word.strip(st.punctuation) for word in x.split()))\n",
    "df['whyplay'] = df['whyplay'].apply(lambda x: ' '.join(word.strip(st.punctuation) for word in x.split()))\n",
    "df['Playstyle'] = df['Playstyle'].str.lower().str.strip()\n",
    "df['whyplay'] = df['whyplay'].str.lower().str.strip()\n",
    "df['earnings'] = df['earnings'].str.lower().str.strip()\n",
    "df['Playstyle'].nunique()"
   ]
  },
  {
   "cell_type": "code",
   "execution_count": 22,
   "id": "6e34ceaf-596f-4428-b83f-bc2185f748b0",
   "metadata": {},
   "outputs": [
    {
     "data": {
      "text/plain": [
       "GAD1               0\n",
       "GAD2               0\n",
       "GAD3               0\n",
       "GAD4               0\n",
       "GAD5               0\n",
       "GAD6               0\n",
       "GAD7               0\n",
       "GADE               0\n",
       "SWL1               0\n",
       "SWL2               0\n",
       "SWL3               0\n",
       "SWL4               0\n",
       "SWL5               0\n",
       "Game               0\n",
       "Platform           0\n",
       "Hours              0\n",
       "earnings           0\n",
       "whyplay            0\n",
       "League             0\n",
       "streams            0\n",
       "SPIN1              0\n",
       "SPIN2              0\n",
       "SPIN3              0\n",
       "SPIN4              0\n",
       "SPIN5              0\n",
       "SPIN6              0\n",
       "SPIN7              0\n",
       "SPIN8              0\n",
       "SPIN9              0\n",
       "SPIN10             0\n",
       "SPIN11             0\n",
       "SPIN12             0\n",
       "SPIN13             0\n",
       "SPIN14             0\n",
       "SPIN15             0\n",
       "SPIN16             0\n",
       "SPIN17             0\n",
       "Narcissism        23\n",
       "Gender             0\n",
       "Age                0\n",
       "Work              37\n",
       "Degree             0\n",
       "Residence          0\n",
       "Reference          0\n",
       "Playstyle          0\n",
       "accept             0\n",
       "GAD_T              0\n",
       "SWL_T              0\n",
       "SPIN_T             0\n",
       "Residence_ISO3     0\n",
       "dtype: int64"
      ]
     },
     "execution_count": 22,
     "metadata": {},
     "output_type": "execute_result"
    }
   ],
   "source": [
    "df.drop('highestleague' , axis = 1 , inplace = True)\n",
    "df.isnull().sum()"
   ]
  },
  {
   "cell_type": "code",
   "execution_count": 23,
   "id": "fee849ac-b5d8-486e-9ed6-bfd837eccd0c",
   "metadata": {},
   "outputs": [
    {
     "data": {
      "text/plain": [
       "GAD1                int64\n",
       "GAD2                int64\n",
       "GAD3                int64\n",
       "GAD4                int64\n",
       "GAD5                int64\n",
       "GAD6                int64\n",
       "GAD7                int64\n",
       "GADE               object\n",
       "SWL1                int64\n",
       "SWL2                int64\n",
       "SWL3                int64\n",
       "SWL4                int64\n",
       "SWL5                int64\n",
       "Game               object\n",
       "Platform           object\n",
       "Hours             float64\n",
       "earnings           object\n",
       "whyplay            object\n",
       "League             object\n",
       "streams           float64\n",
       "SPIN1             float64\n",
       "SPIN2             float64\n",
       "SPIN3             float64\n",
       "SPIN4             float64\n",
       "SPIN5             float64\n",
       "SPIN6             float64\n",
       "SPIN7             float64\n",
       "SPIN8             float64\n",
       "SPIN9             float64\n",
       "SPIN10            float64\n",
       "SPIN11            float64\n",
       "SPIN12            float64\n",
       "SPIN13            float64\n",
       "SPIN14            float64\n",
       "SPIN15            float64\n",
       "SPIN16            float64\n",
       "SPIN17            float64\n",
       "Narcissism        float64\n",
       "Gender             object\n",
       "Age                 int64\n",
       "Work               object\n",
       "Degree             object\n",
       "Reference          object\n",
       "Playstyle          object\n",
       "GAD_T               int64\n",
       "SWL_T               int64\n",
       "SPIN_T            float64\n",
       "Residence_ISO3     object\n",
       "dtype: object"
      ]
     },
     "execution_count": 23,
     "metadata": {},
     "output_type": "execute_result"
    }
   ],
   "source": [
    "df.Work.fillna(df.Work.mode()[0] , inplace=True)\n",
    "df.drop(['Residence' , 'accept'] , axis = 1 , inplace = True)\n",
    "df.dtypes"
   ]
  },
  {
   "cell_type": "code",
   "execution_count": 24,
   "id": "3769d388-647a-48ab-afdf-349abda495ad",
   "metadata": {},
   "outputs": [
    {
     "data": {
      "text/plain": [
       "i play for fun                                                                           11708\n",
       "i play mostly for fun but earn a little on the side tournament winnings streaming etc      957\n",
       "Other                                                                                      294\n",
       "i earn a living by playing this game                                                        39\n",
       "Name: earnings, dtype: int64"
      ]
     },
     "execution_count": 24,
     "metadata": {},
     "output_type": "execute_result"
    }
   ],
   "source": [
    "df.earnings.replace(df.earnings.value_counts().index[3:] , 'Other',inplace=True)\n",
    "df['earnings'].value_counts()"
   ]
  },
  {
   "cell_type": "code",
   "execution_count": 25,
   "id": "d80ca48c-d82a-4851-a290-86698942b969",
   "metadata": {},
   "outputs": [
    {
     "data": {
      "text/plain": [
       "having fun          5138\n",
       "improving           4728\n",
       "winning             2018\n",
       "relaxing             630\n",
       "Other                428\n",
       "all of the above      56\n",
       "Name: whyplay, dtype: int64"
      ]
     },
     "execution_count": 25,
     "metadata": {},
     "output_type": "execute_result"
    }
   ],
   "source": [
    "df.whyplay.replace(df.whyplay.value_counts().index[5:] , 'Other',inplace=True)\n",
    "df['whyplay'].value_counts()"
   ]
  },
  {
   "cell_type": "code",
   "execution_count": 26,
   "id": "f491fa7d-047d-4b80-a94a-d4cef4f55002",
   "metadata": {},
   "outputs": [
    {
     "data": {
      "text/plain": [
       "multiplayer  online  with real life friends                    5428\n",
       "multiplayer  online  with strangers                            3969\n",
       "multiplayer  online  with online acquaintances or teammates    2545\n",
       "singleplayer                                                    720\n",
       "Other                                                           292\n",
       "multiplayer  offline people in the same room                     44\n",
       "Name: Playstyle, dtype: int64"
      ]
     },
     "execution_count": 26,
     "metadata": {},
     "output_type": "execute_result"
    }
   ],
   "source": [
    "df.Playstyle.replace(df.Playstyle.value_counts().index[5:] , 'Other',inplace=True)\n",
    "df['Playstyle'].value_counts()"
   ]
  },
  {
   "cell_type": "code",
   "execution_count": 27,
   "id": "37a308f2-fdec-4e1b-bf2a-4875a072a64b",
   "metadata": {},
   "outputs": [
    {
     "data": {
      "text/plain": [
       "(12081, 48)"
      ]
     },
     "execution_count": 27,
     "metadata": {},
     "output_type": "execute_result"
    }
   ],
   "source": [
    "df.Playstyle.replace('Other' , np.nan , inplace=True)\n",
    "df.whyplay.replace('Other' , np.nan , inplace=True)\n",
    "df.earnings.replace('Other' , np.nan , inplace=True)\n",
    "df.dropna(inplace=True)\n",
    "df.shape"
   ]
  }
 ],
 "metadata": {
  "kernelspec": {
   "display_name": "Python 3 (ipykernel)",
   "language": "python",
   "name": "python3"
  },
  "language_info": {
   "codemirror_mode": {
    "name": "ipython",
    "version": 3
   },
   "file_extension": ".py",
   "mimetype": "text/x-python",
   "name": "python",
   "nbconvert_exporter": "python",
   "pygments_lexer": "ipython3",
   "version": "3.9.13"
  }
 },
 "nbformat": 4,
 "nbformat_minor": 5
}
